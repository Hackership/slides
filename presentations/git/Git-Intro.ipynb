{
 "cells": [
  {
   "cell_type": "markdown",
   "metadata": {
    "slideshow": {
     "slide_type": "slide"
    }
   },
   "source": [
    "# Introducing Git\n",
    "## may the past be with you\n",
    "\n",
    "\n",
    "Benjamin Kampmann\n",
    " - [twitter/@sirDonQui](http://www.twitter.com/sirDonQui)\n",
    " - [github/@ligthyear](http://www.github.com/ligthyear)\n",
    "\n",
    "\n",
    "#### for [Hackership](http://www.hackership.org) (@hacker_ship)\n",
    "Batch-15-07, Berlin, July, 2015"
   ]
  },
  {
   "cell_type": "markdown",
   "metadata": {
    "slideshow": {
     "slide_type": "slide"
    }
   },
   "source": [
    "## What is git?\n",
    "\n",
    "> Git (/ɡɪt/) is a distributed revision control system with an emphasis on speed, data integrity, and support for distributed, non-linear workflows.\n",
    "– [Wikipedia](https://en.wikipedia.org/wiki/Git_%28software%29)"
   ]
  },
  {
   "cell_type": "markdown",
   "metadata": {
    "slideshow": {
     "slide_type": "slide"
    }
   },
   "source": [
    "![What?](http://media4.giphy.com/media/bZAya1cIgkmpW/200.gif)\n"
   ]
  },
  {
   "cell_type": "markdown",
   "metadata": {
    "slideshow": {
     "slide_type": "slide"
    }
   },
   "source": [
    "> Git (/ɡɪt/) is a distributed **revision control system**"
   ]
  },
  {
   "cell_type": "markdown",
   "metadata": {
    "collapsed": true,
    "slideshow": {
     "slide_type": "slide"
    }
   },
   "source": [
    "> Git (/ɡɪt/) is a distributed **revision control system**\n",
    "\n",
    "\n",
    "Think of it as \"logical backups\" of your source-code – in this specific context also known as Source Control Management (SCM) systems."
   ]
  },
  {
   "cell_type": "markdown",
   "metadata": {
    "slideshow": {
     "slide_type": "slide"
    }
   },
   "source": [
    "> Git (/ɡɪt/) is a **distributed** revision control system\n"
   ]
  },
  {
   "cell_type": "markdown",
   "metadata": {
    "slideshow": {
     "slide_type": "slide"
    }
   },
   "source": [
    "> Git (/ɡɪt/) is a **distributed** revision control system\n",
    "\n",
    "Git, unlike many other SCMs doesn't need a central server and has features build in to support diverging and \"reconnecting\" of `repositories` (that's what one \"archive\" is called).\n",
    "\n",
    "The key feature: every `clone` always has a copy of the entire archive with them."
   ]
  },
  {
   "cell_type": "markdown",
   "metadata": {
    "slideshow": {
     "slide_type": "slide"
    }
   },
   "source": [
    "> with an emphasis on speed, **data integrity**, and support for distributed, non-linear workflows\n"
   ]
  },
  {
   "cell_type": "markdown",
   "metadata": {
    "slideshow": {
     "slide_type": "slide"
    }
   },
   "source": [
    "> with an emphasis on speed, **data integrity**, and support for distributed, non-linear workflows\n",
    "\n",
    "Git doesn't identify \"revisions\" by an incrementing number, but by hashes on the entire changeset (including metadata like author, parent and timestamp):\n",
    "![](http://cdn.shopify.com/s/files/1/0103/6862/files/git-log_1.png)"
   ]
  },
  {
   "cell_type": "markdown",
   "metadata": {
    "slideshow": {
     "slide_type": "slide"
    }
   },
   "source": [
    "> with an emphasis on speed, data integrity, and support for **distributed**, non-linear **workflows**\n"
   ]
  },
  {
   "cell_type": "markdown",
   "metadata": {
    "slideshow": {
     "slide_type": "slide"
    }
   },
   "source": [
    "> with an emphasis on speed, data integrity, and support for **distributed**, non-linear **workflows**\n",
    "\n",
    "Through the system of every clone having the entire `repository`, on every system you can do all tasks needed. In order to sync these Git knows about the concepts of `remotes`: another clone of the `repository` somewhere else. Because of the hash-based-way they are constructed, Git has ways to figure out when and where they diverged and is pretty smart in `pull`ing in the changes made and `push` new updates.\n",
    "\n"
   ]
  },
  {
   "cell_type": "markdown",
   "metadata": {
    "slideshow": {
     "slide_type": "slide"
    }
   },
   "source": [
    "> with an emphasis on speed, data integrity, and support for distributed, **non-linear workflows**\n"
   ]
  },
  {
   "cell_type": "markdown",
   "metadata": {
    "slideshow": {
     "slide_type": "slide"
    }
   },
   "source": [
    "> with an emphasis on speed, data integrity, and support for distributed, **non-linear workflows**\n",
    "\n",
    "But Git goes even further than that. It allows diverging or `branch`ing even _within_ a `repo` and helps you keep track of changes through it. It allows you to keep multiple `branches` of changes, developed in parallel.\n",
    "\n",
    "![](http://opentechschool.github.io/social-coding/core/images/git-branches.png)\n"
   ]
  },
  {
   "cell_type": "markdown",
   "metadata": {
    "slideshow": {
     "slide_type": "notes"
    }
   },
   "source": [
    "Hand out Git Cheat Sheet:\n",
    "\n"
   ]
  },
  {
   "cell_type": "markdown",
   "metadata": {
    "slideshow": {
     "slide_type": "slide"
    }
   },
   "source": [
    "## hands-on\n",
    "\n",
    "### The minimal git workflow:\n",
    "\n",
    "- Once: Create a new repository (where you currently are):\n",
    "\n",
    "`git init .`\n",
    "  \n",
    "- Now you make changes to files, you can see what changed with:\n",
    " \n",
    "`git status`\n",
    "  \n",
    "- As soon as you have a bunch of changes you want to add to the repository, put them _on stage_ with\n",
    "\n",
    "`git add FILENAME`\n",
    "  \n",
    "- Then add the changeset to the repository with\n",
    " \n",
    "`git commit` (or `git commit -m\"Message\"`)\n",
    "\n",
    "\n",
    "\n"
   ]
  },
  {
   "cell_type": "markdown",
   "metadata": {
    "slideshow": {
     "slide_type": "slide"
    }
   },
   "source": [
    "## hands-on\n",
    "\n",
    "Let's go:\n",
    "\n",
    "> Go to [http://learn.opentechschool.org/](http://learn.opentechschool.org/) and there find **Social Coding with Github**. Let's start."
   ]
  }
 ],
 "metadata": {
  "celltoolbar": "Slideshow",
  "kernelspec": {
   "display_name": "Python 3",
   "language": "python",
   "name": "python3"
  },
  "language_info": {
   "codemirror_mode": {
    "name": "ipython",
    "version": 3
   },
   "file_extension": ".py",
   "mimetype": "text/x-python",
   "name": "python",
   "nbconvert_exporter": "python",
   "pygments_lexer": "ipython3",
   "version": "3.3.2"
  }
 },
 "nbformat": 4,
 "nbformat_minor": 0
}
